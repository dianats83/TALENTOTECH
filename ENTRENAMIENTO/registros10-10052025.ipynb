import pandas as pd

lista_cedula = ["37084898", "1080047618", "1052213556"]
print(lista_cedula)
print()

lista_nombre = ["Magaly", "Erick", "Gina"]
print(lista_nombre)
print()

lista_peso = ["80 kl", "68 kl", "60 kl"]
print(lista_peso)
print()

lista_estatura = ["1.68 mt", "1.65 mt", "1.58 mt"]
print(lista_estatura)
print()

df['bmi'] = df['weight'] / df['height'] ** 2
l_dbmi = []

#*********************
print(lista_estatura)
print()

d_datos = {"Name":lista_nombre,
           "Weight":lista_peso,
           "Height":lista_estatura,
           "bmi":l_dbmi
          }
print(d_datos)

df = pd.DataFrame(d_datos)


#df["bmi"] = df["weight"] / df["height"] ** 2
#df

#print(df["bmi"])
#print()

print()
print(df)
print()
df.describe()

import pandas as pd

lista_cedula = ["37084898", "1080047618", "1052213556", "130679898", "1052212332", "27354266", "30724556", "78956222", "52330155", "27021000"]
print(lista_cedula)
print()

lista_nombre = ["Magaly", "Erick", "Gina", "Javier", "Juan", "Betty", "Helena", "Felipe", "Martha", "Pablo"]
print(lista_nombre)
print()

lista_peso = ["80 kl", "68 kl", "60 kl", "80 kl", "68 kl", "60 kl", "80 kl", "68 kl", "60 kl", "80 kl"]
print(lista_peso)
print()

lista_estatura = ["1.68 mt", "1.65 mt", "1.58 mt", "1.68 mt", "1.65 mt", "1.58 mt", "1.68 mt", "1.65 mt", "1.58 mt", "1.25 mt"]
print(lista_estatura)
print()

lista_sexo = ["Femenino", "Masculino", "Femenino", "Masculino", "Masculino", "Femenino", "Femenino", "Masculino", "Femenino", "Masculino"]
print(lista_sexo)
print()

lista_hoby = ["Sistemas", "Video Juegos", "Caminar", "Futbol", "Musica", "Cantar", "Ver TV", "Estudiar", "Cocinar", "Trabajar"]
print(lista_hoby)
print()

lista_profesion = ["Docente", "Estudiante", "Estudiante", "Abogado", "Estudiante", "Cantante", "Deportista", "Estudiante", "Ama de casa", "Abogado"]
print(lista_profesion)
print()

lista_estudios = ["Magister", "Estudiando", "Estudiando", "Profesional", "Estudiando", "Estudiando", "Estudiando", "Estudiando", "Profesional", "Especialista"]
print(lista_estudios)
print()

lista_celular = ["3215659878", "3215659874", "3215659873", "3215659871", "3215659872", "3215659875", "3215659880", "3215659564", "3215658547", "3228469878"]
print(lista_celular)
print()

lista_casa = ["Propia", "Arriendo", "Anticres", "Propia", "Anticres", "Arriendo", "Anticres", "Propia", "Arriendo", "Propia"]
print(lista_casa)
print()

lista_medio_transporte = ["Vehiculo", "Auto bus", "Auto bus", "Vehiculo", "Patineta", "Motocicleta", "Vehiculo", "Bicicleta", "Motocicleta", "Bicicleta"]
print(lista_medio_transporte)
print()

d_datos = {"Name":lista_nombre,
           "Weight":lista_peso,
           "Height":lista_estatura,
           "Sexo":lista_sexo,
           "Hoby":lista_hoby,
           "Profesion":lista_profesion,
           "Estudios":lista_estudios,
           "Celular":lista_celular,
           "Casa":lista_casa,
           "Transporte":lista_medio_transporte}
print(d_datos)

df = pd.DataFrame(d_datos)
#df["bmi"] = df["weight"] / df["height"] ** 2
#df

#print(df["bmi"])
#print()

print()
print(df)
print()
df.describe()
